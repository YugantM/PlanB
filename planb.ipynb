{
 "cells": [
  {
   "cell_type": "code",
   "execution_count": 9,
   "metadata": {},
   "outputs": [],
   "source": [
    "import requests,time,base64,hmac,hashlib"
   ]
  },
  {
   "cell_type": "code",
   "execution_count": 10,
   "metadata": {},
   "outputs": [],
   "source": [
    "api_key = \"5f6b504decdaad0006a001e7\"\n",
    "api_secret = \"485a6b62-1741-47aa-ac30-0b0922a7a40a\"\n",
    "api_passphrase = \"#Include76002\"\n",
    "url = 'https://futures-api.poloniex.com/api/v1/position?symbol=BTCUSDTPERP'\n",
    "now = int(time.time() * 1000)\n",
    "str_to_sign = str(now) + 'GET' + '/api/v1/position?symbol=BTCUSDTPERP'\n",
    "signature = base64.b64encode(hmac.new(api_secret.encode('utf-8'), str_to_sign.encode('utf-8'), hashlib.sha256).digest())\n",
    "headers = {\n",
    "        \"PF-API-SIGN\": signature,\n",
    "        \"PF-API-TIMESTAMP\": str(now),\n",
    "        \"PF-API-KEY\": api_key,\n",
    "        \"PF-API-PASSPHRASE\": api_passphrase\n",
    "}\n"
   ]
  },
  {
   "cell_type": "code",
   "execution_count": 11,
   "metadata": {},
   "outputs": [
    {
     "name": "stdout",
     "output_type": "stream",
     "text": [
      "200\n",
      "{'code': '200000', 'data': {'realisedGrossPnl': 0.0, 'symbol': 'BTCUSDTPERP', 'crossMode': False, 'liquidationPrice': 0.0, 'posLoss': 0.0, 'avgEntryPrice': 0.0, 'unrealisedPnl': 0.0, 'markPrice': 10529.92, 'autoDeposit': False, 'posMargin': 0.0, 'riskLimit': 2000000, 'unrealisedCost': 0.0, 'posComm': 0.0, 'posMaint': 0.0, 'posCost': 0.0, 'id': '5f6b50aab3ca9700064f0aae', 'maintMarginReq': 0.005, 'bankruptPrice': 0.0, 'realisedCost': 0.0, 'markValue': 0.0, 'posInit': 0.0, 'realisedPnl': 0.0, 'maintMargin': 0.0, 'realLeverage': 0.0, 'currentCost': 0.0, 'settleCurrency': 'USDT', 'currentQty': 0, 'delevPercentage': 0.0, 'currentComm': 0.0, 'realisedGrossCost': 0.0, 'isOpen': False, 'posCross': 0, 'currentTimestamp': 1600868522686, 'unrealisedRoePcnt': 0, 'unrealisedPnlPcnt': 0}}\n"
     ]
    }
   ],
   "source": [
    "response = requests.request('get', url, headers=headers)\n",
    "print(response.status_code)\n",
    "print(response.json())"
   ]
  },
  {
   "cell_type": "code",
   "execution_count": null,
   "metadata": {},
   "outputs": [],
   "source": []
  }
 ],
 "metadata": {
  "kernelspec": {
   "display_name": "Python 3",
   "language": "python",
   "name": "python3"
  },
  "language_info": {
   "codemirror_mode": {
    "name": "ipython",
    "version": 3
   },
   "file_extension": ".py",
   "mimetype": "text/x-python",
   "name": "python",
   "nbconvert_exporter": "python",
   "pygments_lexer": "ipython3",
   "version": "3.7.4"
  }
 },
 "nbformat": 4,
 "nbformat_minor": 2
}
